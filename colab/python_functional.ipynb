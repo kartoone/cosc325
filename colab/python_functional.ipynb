{
  "nbformat": 4,
  "nbformat_minor": 0,
  "metadata": {
    "colab": {
      "provenance": [],
      "authorship_tag": "ABX9TyOJqUE9PTE+4C0jwHCbm/ar",
      "include_colab_link": true
    },
    "kernelspec": {
      "name": "python3",
      "display_name": "Python 3"
    },
    "language_info": {
      "name": "python"
    }
  },
  "cells": [
    {
      "cell_type": "markdown",
      "metadata": {
        "id": "view-in-github",
        "colab_type": "text"
      },
      "source": [
        "<a href=\"https://colab.research.google.com/github/kartoone/cosc325/blob/main/colab/python_functional.ipynb\" target=\"_parent\"><img src=\"https://colab.research.google.com/assets/colab-badge.svg\" alt=\"Open In Colab\"/></a>"
      ]
    },
    {
      "cell_type": "code",
      "execution_count": null,
      "metadata": {
        "id": "mGGnpmfU_Z4j"
      },
      "outputs": [],
      "source": [
        "def adder(a, b):\n",
        "  return a + b\n",
        "\n",
        "def subtractor(a, b):\n",
        "  return a - b\n",
        "\n",
        "def multiplier(a, b):\n",
        "  return a * b\n",
        "\n",
        "def divider(a, b):\n",
        "  return a / b\n",
        "\n",
        "# assigning a function to a variable\n",
        "mathop = subtractor\n",
        "print(mathop(5, 3))\n",
        "\n",
        "# mathop needs to be a function\n",
        "# a and b need to be mathematical values\n",
        "def executor(mathop, a, b):\n",
        "  print(mathop(a, b))\n",
        "\n",
        "# pass in named functions for mathop\n",
        "executor(adder, 5, 3)\n",
        "executor(subtractor, 5, 3)\n",
        "executor(multiplier, 5, 3)\n",
        "executor(divider, 5, 3)\n",
        "\n",
        "# pass in an anonymous function for mathop\n",
        "executor(lambda a, b : a**b, 5, 3)\n",
        "\n",
        "# creates and returns a function\n",
        "# strictly below thresh1 => cold\n",
        "# strictly above thresh2 => hot\n",
        "# else just right\n",
        "def hot_or_cold(thresh1, thresh2):\n",
        "  return lambda degF : \"cold\" if degF<thresh1 else \"hot\" if degF>thresh2 else \"just right\" \n",
        "\n",
        "mytempfunc1 = hot_or_cold(40, 70)\n",
        "mytempfunc2 = hot_or_cold(50, 80)\n",
        "mytempfunc3 = hot_or_cold(30, 60)\n",
        "\n",
        "result1 = mytempfunc1((int(input())))\n",
        "print(result1)\n",
        "result2 = mytempfunc2((int(input())))\n",
        "print(result2)\n",
        "result3 = mytempfunc3((int(input())))\n",
        "print(result3)"
      ]
    },
    {
      "cell_type": "code",
      "source": [
        "# sort a list of nested lists by ascending length\n",
        "# [[1, 2, 3], [1, 2]] ====> [[1, 2], [1, 2, 3]]\n",
        "nestedlist = [[1, 2, 3], [1, 2]]\n",
        "from functools import cmp_to_key\n",
        "nestedlist.sort(key=cmp_to_key(lambda a, b : 1 if a<b else 0 if a==b else -1))\n",
        "print(nestedlist)\n"
      ],
      "metadata": {
        "colab": {
          "base_uri": "https://localhost:8080/"
        },
        "id": "_HoO9CybGDbG",
        "outputId": "a8835f67-4b0e-4cc1-ac91-f90ebd09b5f3"
      },
      "execution_count": 9,
      "outputs": [
        {
          "output_type": "stream",
          "name": "stdout",
          "text": [
            "[[1, 2, 3], [1, 2]]\n"
          ]
        }
      ]
    },
    {
      "cell_type": "code",
      "source": [
        "result = adder(3, 5)\n",
        "print(result)\n",
        "\n",
        "print((lambda a, b : a + b)(3, 5))"
      ],
      "metadata": {
        "colab": {
          "base_uri": "https://localhost:8080/"
        },
        "id": "eQq2BR4OIrL3",
        "outputId": "04ad0339-d95c-4ebc-dd0e-1863ec85dc29"
      },
      "execution_count": 14,
      "outputs": [
        {
          "output_type": "stream",
          "name": "stdout",
          "text": [
            "8\n",
            "8\n"
          ]
        }
      ]
    }
  ]
}